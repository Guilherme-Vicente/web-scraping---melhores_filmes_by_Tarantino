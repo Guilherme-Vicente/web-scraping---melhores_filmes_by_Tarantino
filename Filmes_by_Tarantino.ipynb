{
 "cells": [
  {
   "cell_type": "code",
   "execution_count": 143,
   "metadata": {},
   "outputs": [],
   "source": [
    "from bs4 import BeautifulSoup\n",
    "import requests\n",
    "import pandas as pd\n",
    "import matplotlib as plt"
   ]
  },
  {
   "cell_type": "markdown",
   "metadata": {},
   "source": [
    "# Raspando dados com python(web scraping)\n",
    "## Melhores filmes do Tarantino no site da imdb\n",
    "https://www.imdb.com/list/ls020710066/"
   ]
  },
  {
   "cell_type": "code",
   "execution_count": 112,
   "metadata": {},
   "outputs": [],
   "source": [
    "url = 'https://www.imdb.com/list/ls020710066/'"
   ]
  },
  {
   "cell_type": "code",
   "execution_count": 113,
   "metadata": {},
   "outputs": [],
   "source": [
    "r = requests.get(url)"
   ]
  },
  {
   "cell_type": "code",
   "execution_count": 114,
   "metadata": {},
   "outputs": [],
   "source": [
    "soup = BeautifulSoup(r.content, 'html.parser')"
   ]
  },
  {
   "cell_type": "code",
   "execution_count": 115,
   "metadata": {},
   "outputs": [
    {
     "name": "stdout",
     "output_type": "stream",
     "text": [
      "<class 'bs4.element.ResultSet'>\n",
      "10\n"
     ]
    }
   ],
   "source": [
    "filme_container = soup.find_all('div', class_ = 'lister-item mode-detail')\n",
    "print(type(filme_container))\n",
    "print(len(filme_container))"
   ]
  },
  {
   "cell_type": "code",
   "execution_count": 116,
   "metadata": {},
   "outputs": [
    {
     "data": {
      "text/plain": [
       "<div class=\"lister-item mode-detail\">\n",
       "<div class=\"lister-item-image ribbonize\" data-tconst=\"tt0110912\">\n",
       "<a href=\"/title/tt0110912/\"> <img alt=\"Pulp Fiction: Tempo de Violência\" class=\"loadlate\" data-tconst=\"tt0110912\" height=\"209\" loadlate=\"https://m.media-amazon.com/images/M/MV5BNGNhMDIzZTUtNTBlZi00MTRlLWFjM2ItYzViMjE3YzI5MjljXkEyXkFqcGdeQXVyNzkwMjQ5NzM@._V1_UY209_CR2,0,140,209_AL_.jpg\" src=\"https://m.media-amazon.com/images/G/01/imdb/images/nopicture/large/film-184890147._CB466725069_.png\" width=\"140\"/>\n",
       "</a> </div>\n",
       "<div class=\"lister-item-content\">\n",
       "<h3 class=\"lister-item-header\">\n",
       "<span class=\"lister-item-index unbold text-primary\">1.</span>\n",
       "<a href=\"/title/tt0110912/\">Pulp Fiction: Tempo de Violência</a>\n",
       "<span class=\"lister-item-year text-muted unbold\">(1994)</span>\n",
       "</h3>\n",
       "<p class=\"text-muted text-small\">\n",
       "<span class=\"certificate\">18</span>\n",
       "<span class=\"ghost\">|</span>\n",
       "<span class=\"runtime\">154 min</span>\n",
       "<span class=\"ghost\">|</span>\n",
       "<span class=\"genre\">\n",
       "Crime, Drama            </span>\n",
       "</p>\n",
       "<div class=\"ipl-rating-widget\">\n",
       "<div class=\"ipl-rating-star small\">\n",
       "<span class=\"ipl-rating-star__star\">\n",
       "<svg class=\"ipl-icon ipl-star-icon\" fill=\"#000000\" height=\"24\" viewbox=\"0 0 24 24\" width=\"24\" xmlns=\"http://www.w3.org/2000/svg\">\n",
       "<path d=\"M0 0h24v24H0z\" fill=\"none\"></path>\n",
       "<path d=\"M12 17.27L18.18 21l-1.64-7.03L22 9.24l-7.19-.61L12 2 9.19 8.63 2 9.24l5.46 4.73L5.82 21z\"></path>\n",
       "<path d=\"M0 0h24v24H0z\" fill=\"none\"></path>\n",
       "</svg>\n",
       "</span>\n",
       "<span class=\"ipl-rating-star__rating\">8.9</span>\n",
       "</div>\n",
       "<div class=\"ipl-rating-interactive small ipl-rating-interactive--no-rating\">\n",
       "<input class=\"ipl-rating-interactive__state\" data-reftag=\"ur_rt\" data-tconst=\"tt0110912\" id=\"checkbox-tt0110912\" type=\"checkbox\"/>\n",
       "<label class=\"ipl-rating-interactive__star-container\" for=\"checkbox-tt0110912\">\n",
       "<div class=\"ipl-rating-star ipl-rating-interactive__star\">\n",
       "<span class=\"ipl-rating-star__star\">\n",
       "<svg class=\"ipl-icon ipl-star-icon\" fill=\"#000000\" height=\"24\" viewbox=\"0 0 24 24\" width=\"24\" xmlns=\"http://www.w3.org/2000/svg\">\n",
       "<path d=\"M0 0h24v24H0z\" fill=\"none\"></path>\n",
       "<path d=\"M12 17.27L18.18 21l-1.64-7.03L22 9.24l-7.19-.61L12 2 9.19 8.63 2 9.24l5.46 4.73L5.82 21z\"></path>\n",
       "<path d=\"M0 0h24v24H0z\" fill=\"none\"></path>\n",
       "</svg>\n",
       "</span>\n",
       "<span class=\"ipl-rating-star__rating\">0</span>\n",
       "</div>\n",
       "<div class=\"ipl-rating-star ipl-rating-interactive__star--empty\">\n",
       "<span class=\"ipl-rating-star__star\">\n",
       "<svg class=\"ipl-icon ipl-star-border-icon\" fill=\"#000000\" height=\"24\" viewbox=\"0 0 24 24\" width=\"24\" xmlns=\"http://www.w3.org/2000/svg\">\n",
       "<path d=\"M22 9.24l-7.19-.62L12 2 9.19 8.63 2 9.24l5.46 4.73L5.82 21 12 17.27 18.18 21l-1.63-7.03L22 9.24zM12 15.4l-3.76 2.27 1-4.28-3.32-2.88 4.38-.38L12 6.1l1.71 4.04 4.38.38-3.32 2.88 1 4.28L12 15.4z\"></path>\n",
       "<path d=\"M0 0h24v24H0z\" fill=\"none\"></path>\n",
       "</svg>\n",
       "</span>\n",
       "<span class=\"ipl-rating-star__rating\">Rate</span>\n",
       "</div>\n",
       "</label>\n",
       "<div class=\"ipl-rating-selector\" data-value=\"0\" id=\"ipl-rating-selector-tt0110912\">\n",
       "<div class=\"ipl-rating-selector__selector ipl-rating-selector__wrapper\">\n",
       "<div class=\"ipl-rating-selector__reset\">\n",
       "<a href=\"#void\"> <svg class=\"ipl-icon ipl-cancel-icon\" fill=\"#000000\" height=\"24\" viewbox=\"0 0 24 24\" width=\"24\" xmlns=\"http://www.w3.org/2000/svg\">\n",
       "<path d=\"M12 2C6.47 2 2 6.47 2 12s4.47 10 10 10 10-4.47 10-10S17.53 2 12 2zm5 13.59L15.59 17 12 13.41 8.41 17 7 15.59 10.59 12 7 8.41 8.41 7 12 10.59 15.59 7 17 8.41 13.41 12 17 15.59z\"></path>\n",
       "<path d=\"M0 0h24v24H0z\" fill=\"none\"></path>\n",
       "</svg>\n",
       "</a>\n",
       "</div>\n",
       "<span class=\"ipl-rating-selector__divider\"></span>\n",
       "<form action=\"/ratings/_ajax/title\" class=\"ipl-rating-selector__star-list\" method=\"post\">\n",
       "<a class=\"ipl-rating-selector__star-link\" data-value=\"1\" href=\"#void\">\n",
       "<div class=\"ipl-rating-star ipl-rating-interactive__star\">\n",
       "<span class=\"ipl-rating-star__star\">\n",
       "<svg class=\"ipl-icon ipl-star-icon\" fill=\"#000000\" height=\"24\" viewbox=\"0 0 24 24\" width=\"24\" xmlns=\"http://www.w3.org/2000/svg\">\n",
       "<path d=\"M0 0h24v24H0z\" fill=\"none\"></path>\n",
       "<path d=\"M12 17.27L18.18 21l-1.64-7.03L22 9.24l-7.19-.61L12 2 9.19 8.63 2 9.24l5.46 4.73L5.82 21z\"></path>\n",
       "<path d=\"M0 0h24v24H0z\" fill=\"none\"></path>\n",
       "</svg>\n",
       "</span>\n",
       "<span class=\"ipl-rating-star__rating\">1</span>\n",
       "</div>\n",
       "<div class=\"ipl-rating-star ipl-rating-interactive__star--empty\">\n",
       "<span class=\"ipl-rating-star__star\">\n",
       "<svg class=\"ipl-icon ipl-star-border-icon\" fill=\"#000000\" height=\"24\" viewbox=\"0 0 24 24\" width=\"24\" xmlns=\"http://www.w3.org/2000/svg\">\n",
       "<path d=\"M22 9.24l-7.19-.62L12 2 9.19 8.63 2 9.24l5.46 4.73L5.82 21 12 17.27 18.18 21l-1.63-7.03L22 9.24zM12 15.4l-3.76 2.27 1-4.28-3.32-2.88 4.38-.38L12 6.1l1.71 4.04 4.38.38-3.32 2.88 1 4.28L12 15.4z\"></path>\n",
       "<path d=\"M0 0h24v24H0z\" fill=\"none\"></path>\n",
       "</svg>\n",
       "</span>\n",
       "<span class=\"ipl-rating-star__rating\">Rate</span>\n",
       "</div>\n",
       "</a>\n",
       "<a class=\"ipl-rating-selector__star-link\" data-value=\"2\" href=\"#void\">\n",
       "<div class=\"ipl-rating-star ipl-rating-interactive__star\">\n",
       "<span class=\"ipl-rating-star__star\">\n",
       "<svg class=\"ipl-icon ipl-star-icon\" fill=\"#000000\" height=\"24\" viewbox=\"0 0 24 24\" width=\"24\" xmlns=\"http://www.w3.org/2000/svg\">\n",
       "<path d=\"M0 0h24v24H0z\" fill=\"none\"></path>\n",
       "<path d=\"M12 17.27L18.18 21l-1.64-7.03L22 9.24l-7.19-.61L12 2 9.19 8.63 2 9.24l5.46 4.73L5.82 21z\"></path>\n",
       "<path d=\"M0 0h24v24H0z\" fill=\"none\"></path>\n",
       "</svg>\n",
       "</span>\n",
       "<span class=\"ipl-rating-star__rating\">2</span>\n",
       "</div>\n",
       "<div class=\"ipl-rating-star ipl-rating-interactive__star--empty\">\n",
       "<span class=\"ipl-rating-star__star\">\n",
       "<svg class=\"ipl-icon ipl-star-border-icon\" fill=\"#000000\" height=\"24\" viewbox=\"0 0 24 24\" width=\"24\" xmlns=\"http://www.w3.org/2000/svg\">\n",
       "<path d=\"M22 9.24l-7.19-.62L12 2 9.19 8.63 2 9.24l5.46 4.73L5.82 21 12 17.27 18.18 21l-1.63-7.03L22 9.24zM12 15.4l-3.76 2.27 1-4.28-3.32-2.88 4.38-.38L12 6.1l1.71 4.04 4.38.38-3.32 2.88 1 4.28L12 15.4z\"></path>\n",
       "<path d=\"M0 0h24v24H0z\" fill=\"none\"></path>\n",
       "</svg>\n",
       "</span>\n",
       "<span class=\"ipl-rating-star__rating\">Rate</span>\n",
       "</div>\n",
       "</a>\n",
       "<a class=\"ipl-rating-selector__star-link\" data-value=\"3\" href=\"#void\">\n",
       "<div class=\"ipl-rating-star ipl-rating-interactive__star\">\n",
       "<span class=\"ipl-rating-star__star\">\n",
       "<svg class=\"ipl-icon ipl-star-icon\" fill=\"#000000\" height=\"24\" viewbox=\"0 0 24 24\" width=\"24\" xmlns=\"http://www.w3.org/2000/svg\">\n",
       "<path d=\"M0 0h24v24H0z\" fill=\"none\"></path>\n",
       "<path d=\"M12 17.27L18.18 21l-1.64-7.03L22 9.24l-7.19-.61L12 2 9.19 8.63 2 9.24l5.46 4.73L5.82 21z\"></path>\n",
       "<path d=\"M0 0h24v24H0z\" fill=\"none\"></path>\n",
       "</svg>\n",
       "</span>\n",
       "<span class=\"ipl-rating-star__rating\">3</span>\n",
       "</div>\n",
       "<div class=\"ipl-rating-star ipl-rating-interactive__star--empty\">\n",
       "<span class=\"ipl-rating-star__star\">\n",
       "<svg class=\"ipl-icon ipl-star-border-icon\" fill=\"#000000\" height=\"24\" viewbox=\"0 0 24 24\" width=\"24\" xmlns=\"http://www.w3.org/2000/svg\">\n",
       "<path d=\"M22 9.24l-7.19-.62L12 2 9.19 8.63 2 9.24l5.46 4.73L5.82 21 12 17.27 18.18 21l-1.63-7.03L22 9.24zM12 15.4l-3.76 2.27 1-4.28-3.32-2.88 4.38-.38L12 6.1l1.71 4.04 4.38.38-3.32 2.88 1 4.28L12 15.4z\"></path>\n",
       "<path d=\"M0 0h24v24H0z\" fill=\"none\"></path>\n",
       "</svg>\n",
       "</span>\n",
       "<span class=\"ipl-rating-star__rating\">Rate</span>\n",
       "</div>\n",
       "</a>\n",
       "<a class=\"ipl-rating-selector__star-link\" data-value=\"4\" href=\"#void\">\n",
       "<div class=\"ipl-rating-star ipl-rating-interactive__star\">\n",
       "<span class=\"ipl-rating-star__star\">\n",
       "<svg class=\"ipl-icon ipl-star-icon\" fill=\"#000000\" height=\"24\" viewbox=\"0 0 24 24\" width=\"24\" xmlns=\"http://www.w3.org/2000/svg\">\n",
       "<path d=\"M0 0h24v24H0z\" fill=\"none\"></path>\n",
       "<path d=\"M12 17.27L18.18 21l-1.64-7.03L22 9.24l-7.19-.61L12 2 9.19 8.63 2 9.24l5.46 4.73L5.82 21z\"></path>\n",
       "<path d=\"M0 0h24v24H0z\" fill=\"none\"></path>\n",
       "</svg>\n",
       "</span>\n",
       "<span class=\"ipl-rating-star__rating\">4</span>\n",
       "</div>\n",
       "<div class=\"ipl-rating-star ipl-rating-interactive__star--empty\">\n",
       "<span class=\"ipl-rating-star__star\">\n",
       "<svg class=\"ipl-icon ipl-star-border-icon\" fill=\"#000000\" height=\"24\" viewbox=\"0 0 24 24\" width=\"24\" xmlns=\"http://www.w3.org/2000/svg\">\n",
       "<path d=\"M22 9.24l-7.19-.62L12 2 9.19 8.63 2 9.24l5.46 4.73L5.82 21 12 17.27 18.18 21l-1.63-7.03L22 9.24zM12 15.4l-3.76 2.27 1-4.28-3.32-2.88 4.38-.38L12 6.1l1.71 4.04 4.38.38-3.32 2.88 1 4.28L12 15.4z\"></path>\n",
       "<path d=\"M0 0h24v24H0z\" fill=\"none\"></path>\n",
       "</svg>\n",
       "</span>\n",
       "<span class=\"ipl-rating-star__rating\">Rate</span>\n",
       "</div>\n",
       "</a>\n",
       "<a class=\"ipl-rating-selector__star-link\" data-value=\"5\" href=\"#void\">\n",
       "<div class=\"ipl-rating-star ipl-rating-interactive__star\">\n",
       "<span class=\"ipl-rating-star__star\">\n",
       "<svg class=\"ipl-icon ipl-star-icon\" fill=\"#000000\" height=\"24\" viewbox=\"0 0 24 24\" width=\"24\" xmlns=\"http://www.w3.org/2000/svg\">\n",
       "<path d=\"M0 0h24v24H0z\" fill=\"none\"></path>\n",
       "<path d=\"M12 17.27L18.18 21l-1.64-7.03L22 9.24l-7.19-.61L12 2 9.19 8.63 2 9.24l5.46 4.73L5.82 21z\"></path>\n",
       "<path d=\"M0 0h24v24H0z\" fill=\"none\"></path>\n",
       "</svg>\n",
       "</span>\n",
       "<span class=\"ipl-rating-star__rating\">5</span>\n",
       "</div>\n",
       "<div class=\"ipl-rating-star ipl-rating-interactive__star--empty\">\n",
       "<span class=\"ipl-rating-star__star\">\n",
       "<svg class=\"ipl-icon ipl-star-border-icon\" fill=\"#000000\" height=\"24\" viewbox=\"0 0 24 24\" width=\"24\" xmlns=\"http://www.w3.org/2000/svg\">\n",
       "<path d=\"M22 9.24l-7.19-.62L12 2 9.19 8.63 2 9.24l5.46 4.73L5.82 21 12 17.27 18.18 21l-1.63-7.03L22 9.24zM12 15.4l-3.76 2.27 1-4.28-3.32-2.88 4.38-.38L12 6.1l1.71 4.04 4.38.38-3.32 2.88 1 4.28L12 15.4z\"></path>\n",
       "<path d=\"M0 0h24v24H0z\" fill=\"none\"></path>\n",
       "</svg>\n",
       "</span>\n",
       "<span class=\"ipl-rating-star__rating\">Rate</span>\n",
       "</div>\n",
       "</a>\n",
       "<a class=\"ipl-rating-selector__star-link\" data-value=\"6\" href=\"#void\">\n",
       "<div class=\"ipl-rating-star ipl-rating-interactive__star\">\n",
       "<span class=\"ipl-rating-star__star\">\n",
       "<svg class=\"ipl-icon ipl-star-icon\" fill=\"#000000\" height=\"24\" viewbox=\"0 0 24 24\" width=\"24\" xmlns=\"http://www.w3.org/2000/svg\">\n",
       "<path d=\"M0 0h24v24H0z\" fill=\"none\"></path>\n",
       "<path d=\"M12 17.27L18.18 21l-1.64-7.03L22 9.24l-7.19-.61L12 2 9.19 8.63 2 9.24l5.46 4.73L5.82 21z\"></path>\n",
       "<path d=\"M0 0h24v24H0z\" fill=\"none\"></path>\n",
       "</svg>\n",
       "</span>\n",
       "<span class=\"ipl-rating-star__rating\">6</span>\n",
       "</div>\n",
       "<div class=\"ipl-rating-star ipl-rating-interactive__star--empty\">\n",
       "<span class=\"ipl-rating-star__star\">\n",
       "<svg class=\"ipl-icon ipl-star-border-icon\" fill=\"#000000\" height=\"24\" viewbox=\"0 0 24 24\" width=\"24\" xmlns=\"http://www.w3.org/2000/svg\">\n",
       "<path d=\"M22 9.24l-7.19-.62L12 2 9.19 8.63 2 9.24l5.46 4.73L5.82 21 12 17.27 18.18 21l-1.63-7.03L22 9.24zM12 15.4l-3.76 2.27 1-4.28-3.32-2.88 4.38-.38L12 6.1l1.71 4.04 4.38.38-3.32 2.88 1 4.28L12 15.4z\"></path>\n",
       "<path d=\"M0 0h24v24H0z\" fill=\"none\"></path>\n",
       "</svg>\n",
       "</span>\n",
       "<span class=\"ipl-rating-star__rating\">Rate</span>\n",
       "</div>\n",
       "</a>\n",
       "<a class=\"ipl-rating-selector__star-link\" data-value=\"7\" href=\"#void\">\n",
       "<div class=\"ipl-rating-star ipl-rating-interactive__star\">\n",
       "<span class=\"ipl-rating-star__star\">\n",
       "<svg class=\"ipl-icon ipl-star-icon\" fill=\"#000000\" height=\"24\" viewbox=\"0 0 24 24\" width=\"24\" xmlns=\"http://www.w3.org/2000/svg\">\n",
       "<path d=\"M0 0h24v24H0z\" fill=\"none\"></path>\n",
       "<path d=\"M12 17.27L18.18 21l-1.64-7.03L22 9.24l-7.19-.61L12 2 9.19 8.63 2 9.24l5.46 4.73L5.82 21z\"></path>\n",
       "<path d=\"M0 0h24v24H0z\" fill=\"none\"></path>\n",
       "</svg>\n",
       "</span>\n",
       "<span class=\"ipl-rating-star__rating\">7</span>\n",
       "</div>\n",
       "<div class=\"ipl-rating-star ipl-rating-interactive__star--empty\">\n",
       "<span class=\"ipl-rating-star__star\">\n",
       "<svg class=\"ipl-icon ipl-star-border-icon\" fill=\"#000000\" height=\"24\" viewbox=\"0 0 24 24\" width=\"24\" xmlns=\"http://www.w3.org/2000/svg\">\n",
       "<path d=\"M22 9.24l-7.19-.62L12 2 9.19 8.63 2 9.24l5.46 4.73L5.82 21 12 17.27 18.18 21l-1.63-7.03L22 9.24zM12 15.4l-3.76 2.27 1-4.28-3.32-2.88 4.38-.38L12 6.1l1.71 4.04 4.38.38-3.32 2.88 1 4.28L12 15.4z\"></path>\n",
       "<path d=\"M0 0h24v24H0z\" fill=\"none\"></path>\n",
       "</svg>\n",
       "</span>\n",
       "<span class=\"ipl-rating-star__rating\">Rate</span>\n",
       "</div>\n",
       "</a>\n",
       "<a class=\"ipl-rating-selector__star-link\" data-value=\"8\" href=\"#void\">\n",
       "<div class=\"ipl-rating-star ipl-rating-interactive__star\">\n",
       "<span class=\"ipl-rating-star__star\">\n",
       "<svg class=\"ipl-icon ipl-star-icon\" fill=\"#000000\" height=\"24\" viewbox=\"0 0 24 24\" width=\"24\" xmlns=\"http://www.w3.org/2000/svg\">\n",
       "<path d=\"M0 0h24v24H0z\" fill=\"none\"></path>\n",
       "<path d=\"M12 17.27L18.18 21l-1.64-7.03L22 9.24l-7.19-.61L12 2 9.19 8.63 2 9.24l5.46 4.73L5.82 21z\"></path>\n",
       "<path d=\"M0 0h24v24H0z\" fill=\"none\"></path>\n",
       "</svg>\n",
       "</span>\n",
       "<span class=\"ipl-rating-star__rating\">8</span>\n",
       "</div>\n",
       "<div class=\"ipl-rating-star ipl-rating-interactive__star--empty\">\n",
       "<span class=\"ipl-rating-star__star\">\n",
       "<svg class=\"ipl-icon ipl-star-border-icon\" fill=\"#000000\" height=\"24\" viewbox=\"0 0 24 24\" width=\"24\" xmlns=\"http://www.w3.org/2000/svg\">\n",
       "<path d=\"M22 9.24l-7.19-.62L12 2 9.19 8.63 2 9.24l5.46 4.73L5.82 21 12 17.27 18.18 21l-1.63-7.03L22 9.24zM12 15.4l-3.76 2.27 1-4.28-3.32-2.88 4.38-.38L12 6.1l1.71 4.04 4.38.38-3.32 2.88 1 4.28L12 15.4z\"></path>\n",
       "<path d=\"M0 0h24v24H0z\" fill=\"none\"></path>\n",
       "</svg>\n",
       "</span>\n",
       "<span class=\"ipl-rating-star__rating\">Rate</span>\n",
       "</div>\n",
       "</a>\n",
       "<a class=\"ipl-rating-selector__star-link\" data-value=\"9\" href=\"#void\">\n",
       "<div class=\"ipl-rating-star ipl-rating-interactive__star\">\n",
       "<span class=\"ipl-rating-star__star\">\n",
       "<svg class=\"ipl-icon ipl-star-icon\" fill=\"#000000\" height=\"24\" viewbox=\"0 0 24 24\" width=\"24\" xmlns=\"http://www.w3.org/2000/svg\">\n",
       "<path d=\"M0 0h24v24H0z\" fill=\"none\"></path>\n",
       "<path d=\"M12 17.27L18.18 21l-1.64-7.03L22 9.24l-7.19-.61L12 2 9.19 8.63 2 9.24l5.46 4.73L5.82 21z\"></path>\n",
       "<path d=\"M0 0h24v24H0z\" fill=\"none\"></path>\n",
       "</svg>\n",
       "</span>\n",
       "<span class=\"ipl-rating-star__rating\">9</span>\n",
       "</div>\n",
       "<div class=\"ipl-rating-star ipl-rating-interactive__star--empty\">\n",
       "<span class=\"ipl-rating-star__star\">\n",
       "<svg class=\"ipl-icon ipl-star-border-icon\" fill=\"#000000\" height=\"24\" viewbox=\"0 0 24 24\" width=\"24\" xmlns=\"http://www.w3.org/2000/svg\">\n",
       "<path d=\"M22 9.24l-7.19-.62L12 2 9.19 8.63 2 9.24l5.46 4.73L5.82 21 12 17.27 18.18 21l-1.63-7.03L22 9.24zM12 15.4l-3.76 2.27 1-4.28-3.32-2.88 4.38-.38L12 6.1l1.71 4.04 4.38.38-3.32 2.88 1 4.28L12 15.4z\"></path>\n",
       "<path d=\"M0 0h24v24H0z\" fill=\"none\"></path>\n",
       "</svg>\n",
       "</span>\n",
       "<span class=\"ipl-rating-star__rating\">Rate</span>\n",
       "</div>\n",
       "</a>\n",
       "<a class=\"ipl-rating-selector__star-link\" data-value=\"10\" href=\"#void\">\n",
       "<div class=\"ipl-rating-star ipl-rating-interactive__star\">\n",
       "<span class=\"ipl-rating-star__star\">\n",
       "<svg class=\"ipl-icon ipl-star-icon\" fill=\"#000000\" height=\"24\" viewbox=\"0 0 24 24\" width=\"24\" xmlns=\"http://www.w3.org/2000/svg\">\n",
       "<path d=\"M0 0h24v24H0z\" fill=\"none\"></path>\n",
       "<path d=\"M12 17.27L18.18 21l-1.64-7.03L22 9.24l-7.19-.61L12 2 9.19 8.63 2 9.24l5.46 4.73L5.82 21z\"></path>\n",
       "<path d=\"M0 0h24v24H0z\" fill=\"none\"></path>\n",
       "</svg>\n",
       "</span>\n",
       "<span class=\"ipl-rating-star__rating\">10</span>\n",
       "</div>\n",
       "<div class=\"ipl-rating-star ipl-rating-interactive__star--empty\">\n",
       "<span class=\"ipl-rating-star__star\">\n",
       "<svg class=\"ipl-icon ipl-star-border-icon\" fill=\"#000000\" height=\"24\" viewbox=\"0 0 24 24\" width=\"24\" xmlns=\"http://www.w3.org/2000/svg\">\n",
       "<path d=\"M22 9.24l-7.19-.62L12 2 9.19 8.63 2 9.24l5.46 4.73L5.82 21 12 17.27 18.18 21l-1.63-7.03L22 9.24zM12 15.4l-3.76 2.27 1-4.28-3.32-2.88 4.38-.38L12 6.1l1.71 4.04 4.38.38-3.32 2.88 1 4.28L12 15.4z\"></path>\n",
       "<path d=\"M0 0h24v24H0z\" fill=\"none\"></path>\n",
       "</svg>\n",
       "</span>\n",
       "<span class=\"ipl-rating-star__rating\">Rate</span>\n",
       "</div>\n",
       "</a>\n",
       "<fieldset class=\"ipl-rating-selector__fieldset\">\n",
       "<input name=\"tconst\" type=\"hidden\" value=\"tt0110912\">\n",
       "<input name=\"rating\" type=\"text\" value=\"0\"/>\n",
       "<input name=\"auth\" type=\"hidden\" value=\"\"/>\n",
       "<input name=\"tracking_tag\" type=\"hidden\" value=\"ur_rt\"/>\n",
       "<input name=\"pageType\" type=\"hidden\" value=\"list\"/>\n",
       "<input name=\"subpageType\" type=\"hidden\" value=\"title\"/>\n",
       "</input></fieldset>\n",
       "<noscript>\n",
       "<input class=\"ipl-rating-selector__rating-submit\" type=\"submit\" value=\"Vote\"/>\n",
       "</noscript>\n",
       "</form>\n",
       "<span class=\"ipl-rating-selector__rating-value\">0</span>\n",
       "</div>\n",
       "<div class=\"ipl-rating-selector__error ipl-rating-selector__wrapper\">\n",
       "<span>Error: please try again.</span>\n",
       "</div>\n",
       "</div>\n",
       "<div class=\"ipl-rating-interactive__loader\">\n",
       "<img alt=\"loading\" src=\"https://m.media-amazon.com/images/G/01/IMDb/spinning-progress.gif\"/>\n",
       "</div>\n",
       "</div>\n",
       "</div>\n",
       "<div class=\"inline-block ratings-metascore\">\n",
       "<span class=\"metascore favorable\">94        </span>\n",
       "        Metascore\n",
       "        </div>\n",
       "<p class=\"\">\n",
       "    The lives of two mob hitmen, a boxer, a gangster and his wife, and a pair of diner bandits intertwine in four tales of violence and redemption.</p>\n",
       "<p class=\"text-muted text-small\">\n",
       "    Director:\n",
       "<a href=\"/name/nm0000233/\">Quentin Tarantino</a>\n",
       "<span class=\"ghost\">|</span> \n",
       "    Stars:\n",
       "<a href=\"/name/nm0000237/\">John Travolta</a>, \n",
       "<a href=\"/name/nm0000235/\">Uma Thurman</a>, \n",
       "<a href=\"/name/nm0000168/\">Samuel L. Jackson</a>, \n",
       "<a href=\"/name/nm0000246/\">Bruce Willis</a>\n",
       "</p>\n",
       "<p class=\"text-muted text-small\">\n",
       "<span class=\"text-muted\">Votes:</span>\n",
       "<span data-value=\"1744930\" name=\"nv\">1,744,930</span>\n",
       "<span class=\"ghost\">|</span> <span class=\"text-muted\">Gross:</span>\n",
       "<span data-value=\"107,928,762\" name=\"nv\">$107.93M</span>\n",
       "</p>\n",
       "<div class=\"wtw-option-standalone\" data-baseref=\"wl_li\" data-tconst=\"tt0110912\" data-watchtype=\"minibar\"></div>\n",
       "</div>\n",
       "<div class=\"clear\"></div>\n",
       "<div class=\"list-description\"><p>10</p></div> </div>"
      ]
     },
     "execution_count": 116,
     "metadata": {},
     "output_type": "execute_result"
    }
   ],
   "source": [
    "first_filme = filme_container[0]\n",
    "first_filme"
   ]
  },
  {
   "cell_type": "code",
   "execution_count": 117,
   "metadata": {},
   "outputs": [
    {
     "data": {
      "text/plain": [
       "<div class=\"lister-item-image ribbonize\" data-tconst=\"tt0110912\">\n",
       "<a href=\"/title/tt0110912/\"> <img alt=\"Pulp Fiction: Tempo de Violência\" class=\"loadlate\" data-tconst=\"tt0110912\" height=\"209\" loadlate=\"https://m.media-amazon.com/images/M/MV5BNGNhMDIzZTUtNTBlZi00MTRlLWFjM2ItYzViMjE3YzI5MjljXkEyXkFqcGdeQXVyNzkwMjQ5NzM@._V1_UY209_CR2,0,140,209_AL_.jpg\" src=\"https://m.media-amazon.com/images/G/01/imdb/images/nopicture/large/film-184890147._CB466725069_.png\" width=\"140\"/>\n",
       "</a> </div>"
      ]
     },
     "execution_count": 117,
     "metadata": {},
     "output_type": "execute_result"
    }
   ],
   "source": [
    "first_filme.div"
   ]
  },
  {
   "cell_type": "code",
   "execution_count": 118,
   "metadata": {},
   "outputs": [
    {
     "data": {
      "text/plain": [
       "<a href=\"/title/tt0110912/\"> <img alt=\"Pulp Fiction: Tempo de Violência\" class=\"loadlate\" data-tconst=\"tt0110912\" height=\"209\" loadlate=\"https://m.media-amazon.com/images/M/MV5BNGNhMDIzZTUtNTBlZi00MTRlLWFjM2ItYzViMjE3YzI5MjljXkEyXkFqcGdeQXVyNzkwMjQ5NzM@._V1_UY209_CR2,0,140,209_AL_.jpg\" src=\"https://m.media-amazon.com/images/G/01/imdb/images/nopicture/large/film-184890147._CB466725069_.png\" width=\"140\"/>\n",
       "</a>"
      ]
     },
     "execution_count": 118,
     "metadata": {},
     "output_type": "execute_result"
    }
   ],
   "source": [
    "first_filme.div.a"
   ]
  },
  {
   "cell_type": "code",
   "execution_count": 119,
   "metadata": {},
   "outputs": [
    {
     "data": {
      "text/plain": [
       "<a href=\"/title/tt0110912/\">Pulp Fiction: Tempo de Violência</a>"
      ]
     },
     "execution_count": 119,
     "metadata": {},
     "output_type": "execute_result"
    }
   ],
   "source": [
    "first_filme.h3.a"
   ]
  },
  {
   "cell_type": "code",
   "execution_count": 120,
   "metadata": {},
   "outputs": [
    {
     "data": {
      "text/plain": [
       "'Pulp Fiction: Tempo de Violência'"
      ]
     },
     "execution_count": 120,
     "metadata": {},
     "output_type": "execute_result"
    }
   ],
   "source": [
    "first_name = first_filme.h3.a.text\n",
    "first_name"
   ]
  },
  {
   "cell_type": "code",
   "execution_count": 121,
   "metadata": {},
   "outputs": [
    {
     "data": {
      "text/plain": [
       "<span class=\"lister-item-year text-muted unbold\">(1994)</span>"
      ]
     },
     "execution_count": 121,
     "metadata": {},
     "output_type": "execute_result"
    }
   ],
   "source": [
    "first_year = first_filme.h3.find('span', class_ = 'lister-item-year text-muted unbold')\n",
    "first_year"
   ]
  },
  {
   "cell_type": "code",
   "execution_count": 122,
   "metadata": {},
   "outputs": [
    {
     "data": {
      "text/plain": [
       "'(1994)'"
      ]
     },
     "execution_count": 122,
     "metadata": {},
     "output_type": "execute_result"
    }
   ],
   "source": [
    "first_year = first_year.text\n",
    "first_year"
   ]
  },
  {
   "cell_type": "code",
   "execution_count": 123,
   "metadata": {},
   "outputs": [
    {
     "data": {
      "text/plain": [
       "8.9"
      ]
     },
     "execution_count": 123,
     "metadata": {},
     "output_type": "execute_result"
    }
   ],
   "source": [
    "first_imdb = float(first_filme.find_all('span', class_ ='ipl-rating-star__rating')[0].text)\n",
    "first_imdb"
   ]
  },
  {
   "cell_type": "code",
   "execution_count": 124,
   "metadata": {},
   "outputs": [
    {
     "data": {
      "text/plain": [
       "<span data-value=\"1744930\" name=\"nv\">1,744,930</span>"
      ]
     },
     "execution_count": 124,
     "metadata": {},
     "output_type": "execute_result"
    }
   ],
   "source": [
    "f_voto = first_filme.find('span', attrs = {'name':'nv'})\n",
    "f_voto"
   ]
  },
  {
   "cell_type": "code",
   "execution_count": 125,
   "metadata": {},
   "outputs": [
    {
     "data": {
      "text/plain": [
       "'1744930'"
      ]
     },
     "execution_count": 125,
     "metadata": {},
     "output_type": "execute_result"
    }
   ],
   "source": [
    "f_voto['data-value']"
   ]
  },
  {
   "cell_type": "code",
   "execution_count": 126,
   "metadata": {},
   "outputs": [
    {
     "data": {
      "text/plain": [
       "1744930"
      ]
     },
     "execution_count": 126,
     "metadata": {},
     "output_type": "execute_result"
    }
   ],
   "source": [
    "f_voto = int(f_voto['data-value'])\n",
    "f_voto"
   ]
  },
  {
   "cell_type": "code",
   "execution_count": 127,
   "metadata": {},
   "outputs": [
    {
     "data": {
      "text/plain": [
       "'94        '"
      ]
     },
     "execution_count": 127,
     "metadata": {},
     "output_type": "execute_result"
    }
   ],
   "source": [
    "f_mtscore = first_filme.find('span', class_ = 'metascore favorable').text\n",
    "f_mtscore"
   ]
  },
  {
   "cell_type": "code",
   "execution_count": 128,
   "metadata": {},
   "outputs": [
    {
     "name": "stdout",
     "output_type": "stream",
     "text": [
      "94\n"
     ]
    }
   ],
   "source": [
    "f_mtscore = int(f_mtscore)\n",
    "print(f_mtscore)"
   ]
  },
  {
   "cell_type": "code",
   "execution_count": 165,
   "metadata": {},
   "outputs": [],
   "source": [
    "names = []\n",
    "years = []\n",
    "votos = []\n",
    "imdb_ratings = []"
   ]
  },
  {
   "cell_type": "code",
   "execution_count": 130,
   "metadata": {},
   "outputs": [],
   "source": [
    "for container in filme_container:\n",
    "    # The name\n",
    "    name = container.h3.a.text\n",
    "    names.append(name)\n",
    "        \n",
    "    # The year\n",
    "    year = container.h3.find('span', class_ = 'lister-item-year').text\n",
    "    years.append(year)\n",
    "        \n",
    "    # The IMDB rating\n",
    "    imdb = float(container.find_all('span', class_ ='ipl-rating-star__rating')[0].text)\n",
    "    imdb_ratings.append(imdb)\n",
    "    \n",
    "        \n",
    "    # The number of votes\n",
    "    vote = container.find('span', attrs = {'name':'nv'})['data-value']\n",
    "    votos.append(int(vote))"
   ]
  },
  {
   "cell_type": "code",
   "execution_count": 131,
   "metadata": {},
   "outputs": [],
   "source": [
    "a = {'Filme': names,\n",
    "                   'Ano': years,\n",
    "                   'Nota': imdb_ratings,\n",
    "                   'Votos': votos}"
   ]
  },
  {
   "cell_type": "code",
   "execution_count": 139,
   "metadata": {},
   "outputs": [],
   "source": [
    "tst = pd.DataFrame.from_dict(a, orient='index')"
   ]
  },
  {
   "cell_type": "code",
   "execution_count": 140,
   "metadata": {},
   "outputs": [],
   "source": [
    "filmes_by_tarantino = tst.transpose().tail(10)"
   ]
  },
  {
   "cell_type": "code",
   "execution_count": 141,
   "metadata": {},
   "outputs": [
    {
     "data": {
      "text/html": [
       "<div>\n",
       "<style scoped>\n",
       "    .dataframe tbody tr th:only-of-type {\n",
       "        vertical-align: middle;\n",
       "    }\n",
       "\n",
       "    .dataframe tbody tr th {\n",
       "        vertical-align: top;\n",
       "    }\n",
       "\n",
       "    .dataframe thead th {\n",
       "        text-align: right;\n",
       "    }\n",
       "</style>\n",
       "<table border=\"1\" class=\"dataframe\">\n",
       "  <thead>\n",
       "    <tr style=\"text-align: right;\">\n",
       "      <th></th>\n",
       "      <th>Filme</th>\n",
       "      <th>Ano</th>\n",
       "      <th>Nota</th>\n",
       "      <th>Votos</th>\n",
       "    </tr>\n",
       "  </thead>\n",
       "  <tbody>\n",
       "    <tr>\n",
       "      <td>0</td>\n",
       "      <td>Pulp Fiction: Tempo de Violência</td>\n",
       "      <td>(1994)</td>\n",
       "      <td>8.9</td>\n",
       "      <td>1744930</td>\n",
       "    </tr>\n",
       "    <tr>\n",
       "      <td>1</td>\n",
       "      <td>Bastardos Inglórios</td>\n",
       "      <td>(2009)</td>\n",
       "      <td>8.3</td>\n",
       "      <td>1200534</td>\n",
       "    </tr>\n",
       "    <tr>\n",
       "      <td>2</td>\n",
       "      <td>Django Livre</td>\n",
       "      <td>(2012)</td>\n",
       "      <td>8.4</td>\n",
       "      <td>1286558</td>\n",
       "    </tr>\n",
       "    <tr>\n",
       "      <td>3</td>\n",
       "      <td>Kill Bill: Volume 1</td>\n",
       "      <td>(2003)</td>\n",
       "      <td>8.1</td>\n",
       "      <td>958229</td>\n",
       "    </tr>\n",
       "    <tr>\n",
       "      <td>4</td>\n",
       "      <td>Kill Bill: Volume 2</td>\n",
       "      <td>(2004)</td>\n",
       "      <td>8</td>\n",
       "      <td>655010</td>\n",
       "    </tr>\n",
       "    <tr>\n",
       "      <td>5</td>\n",
       "      <td>Os Oito Odiados</td>\n",
       "      <td>(2015)</td>\n",
       "      <td>7.8</td>\n",
       "      <td>484670</td>\n",
       "    </tr>\n",
       "    <tr>\n",
       "      <td>6</td>\n",
       "      <td>Era Uma Vez em... Hollywood</td>\n",
       "      <td>(2019)</td>\n",
       "      <td>7.7</td>\n",
       "      <td>444653</td>\n",
       "    </tr>\n",
       "    <tr>\n",
       "      <td>7</td>\n",
       "      <td>Cães de Aluguel</td>\n",
       "      <td>(1992)</td>\n",
       "      <td>8.3</td>\n",
       "      <td>878559</td>\n",
       "    </tr>\n",
       "    <tr>\n",
       "      <td>8</td>\n",
       "      <td>À Prova de Morte</td>\n",
       "      <td>(2007)</td>\n",
       "      <td>7</td>\n",
       "      <td>258984</td>\n",
       "    </tr>\n",
       "    <tr>\n",
       "      <td>9</td>\n",
       "      <td>Jackie Brown</td>\n",
       "      <td>(1997)</td>\n",
       "      <td>7.5</td>\n",
       "      <td>302835</td>\n",
       "    </tr>\n",
       "  </tbody>\n",
       "</table>\n",
       "</div>"
      ],
      "text/plain": [
       "                              Filme     Ano Nota    Votos\n",
       "0  Pulp Fiction: Tempo de Violência  (1994)  8.9  1744930\n",
       "1               Bastardos Inglórios  (2009)  8.3  1200534\n",
       "2                      Django Livre  (2012)  8.4  1286558\n",
       "3               Kill Bill: Volume 1  (2003)  8.1   958229\n",
       "4               Kill Bill: Volume 2  (2004)    8   655010\n",
       "5                   Os Oito Odiados  (2015)  7.8   484670\n",
       "6       Era Uma Vez em... Hollywood  (2019)  7.7   444653\n",
       "7                   Cães de Aluguel  (1992)  8.3   878559\n",
       "8                  À Prova de Morte  (2007)    7   258984\n",
       "9                      Jackie Brown  (1997)  7.5   302835"
      ]
     },
     "execution_count": 141,
     "metadata": {},
     "output_type": "execute_result"
    }
   ],
   "source": [
    "filmes_by_tarantino"
   ]
  },
  {
   "cell_type": "code",
   "execution_count": 164,
   "metadata": {},
   "outputs": [
    {
     "data": {
      "text/plain": [
       "<matplotlib.axes._subplots.AxesSubplot at 0x119a2d290>"
      ]
     },
     "execution_count": 164,
     "metadata": {},
     "output_type": "execute_result"
    },
    {
     "data": {
      "image/png": "[encoded data removed]",
      "text/plain": [
       "<Figure size 576x576 with 1 Axes>"
      ]
     },
     "metadata": {
      "needs_background": "light"
     },
     "output_type": "display_data"
    }
   ],
   "source": [
    "filmes_by_tarantino['Votos'].plot(kind='bar', title='Filmes Tarantino', figsize=(8, 8))"
   ]
  }
 ],
 "metadata": {
  "kernelspec": {
   "display_name": "Python 3",
   "language": "python",
   "name": "python3"
  },
  "language_info": {
   "codemirror_mode": {
    "name": "ipython",
    "version": 3
   },
   "file_extension": ".py",
   "mimetype": "text/x-python",
   "name": "python",
   "nbconvert_exporter": "python",
   "pygments_lexer": "ipython3",
   "version": "3.7.4"
  }
 },
 "nbformat": 4,
 "nbformat_minor": 2
}
